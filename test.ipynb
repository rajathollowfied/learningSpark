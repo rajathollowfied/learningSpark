{
 "cells": [
  {
   "cell_type": "code",
   "execution_count": 1,
   "metadata": {},
   "outputs": [],
   "source": [
    "import findspark\n",
    "findspark.init()"
   ]
  },
  {
   "cell_type": "code",
   "execution_count": 2,
   "metadata": {},
   "outputs": [],
   "source": [
    "from pyspark.sql import SparkSession\n",
    "spark = SparkSession.builder.appName(\"learning\").getOrCreate()"
   ]
  },
  {
   "cell_type": "code",
   "execution_count": 14,
   "metadata": {},
   "outputs": [],
   "source": [
    "df = spark.createDataFrame(\n",
    "    [\n",
    "        (\"Rajat\",1),\n",
    "        (\"Shady\",2),\n",
    "        (\"Shady\",2),\n",
    "        (\"dooms1ayer\",3)\n",
    "    ],\n",
    "    [\"Name\",\"RNo\"]\n",
    ").createOrReplaceTempView(\"TABLE\")"
   ]
  },
  {
   "cell_type": "code",
   "execution_count": null,
   "metadata": {},
   "outputs": [],
   "source": [
    "from pyspark.sql.window import Window\n",
    "from pyspark.sql.functions import row_number, monotonically_increasing_id, dense_rank, rank\n",
    "\n",
    "w = Window.orderBy(df.RNo)\n",
    "df1 = df.withColumn(\"rowNum\",row_number().over(w))\n",
    "df2 = df.withColumn(\"denseRank\",dense_rank().over(w))\n",
    "df3 = df.withColumn(\"rank\",rank().over(w))\n",
    "\n",
    "df1.show()\n",
    "df2.show()\n",
    "df3.show()"
   ]
  },
  {
   "cell_type": "code",
   "execution_count": 16,
   "metadata": {},
   "outputs": [
    {
     "name": "stdout",
     "output_type": "stream",
     "text": [
      "+----------+---+------+\n",
      "|      Name|RNo|rowNum|\n",
      "+----------+---+------+\n",
      "|     Rajat|  1|     1|\n",
      "|     Shady|  2|     2|\n",
      "|     Shady|  2|     3|\n",
      "|dooms1ayer|  3|     4|\n",
      "+----------+---+------+\n",
      "\n"
     ]
    }
   ],
   "source": [
    "spark.sql(\"\"\"\n",
    "          WITH CTE AS (\n",
    "              SELECT *,ROW_NUMBER() OVER(ORDER BY RNo) AS rowNum FROM TABLE\n",
    "          )\n",
    "          SELECT * FROM CTE\n",
    "          \"\"\").show()"
   ]
  }
 ],
 "metadata": {
  "kernelspec": {
   "display_name": "Python 3",
   "language": "python",
   "name": "python3"
  },
  "language_info": {
   "codemirror_mode": {
    "name": "ipython",
    "version": 3
   },
   "file_extension": ".py",
   "mimetype": "text/x-python",
   "name": "python",
   "nbconvert_exporter": "python",
   "pygments_lexer": "ipython3",
   "version": "3.10.10"
  },
  "orig_nbformat": 4
 },
 "nbformat": 4,
 "nbformat_minor": 2
}
